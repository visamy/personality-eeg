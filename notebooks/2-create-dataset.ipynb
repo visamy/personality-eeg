{
 "cells": [
  {
   "cell_type": "code",
   "execution_count": 9,
   "metadata": {},
   "outputs": [],
   "source": [
    "from src.data import dataloader\n",
    "import json\n",
    "\n",
    "# open config file\n",
    "f = open(\"..//config//config.json\",)\n",
    "config = json.load(f)\n",
    "\n",
    "traits = config[\"traits\"] # 5 personality traits names \n",
    "cfg = config[\"dataset\"]\n",
    "personality_path = \"..//data//Participants_Personality.xlsx\"  # path to personality data file\n",
    "eeg_path = \"..//data//raw//\"  # path to raw eeg files\n",
    "save_path = \"..//data//\" # dataset save path\n",
    "save_suffix = cfg[\"save_suffix\"] # dataset save suffix to be added (e.g.: bandpass_nodelta_scaled)\n",
    "\n",
    "# just to test (my data is in another folder)\n",
    "eeg_path = \"D:\\\\Tesi\\\\data\\\\raw_original\\\\\"\n",
    "\n",
    "df, missing_subjects = dataloader.extract_personality_data(path = personality_path)"
   ]
  },
  {
   "cell_type": "code",
   "execution_count": 17,
   "metadata": {},
   "outputs": [
    {
     "name": "stdout",
     "output_type": "stream",
     "text": [
      "Trait Agreeableness\n"
     ]
    },
    {
     "name": "stderr",
     "output_type": "stream",
     "text": [
      "Subject: 100%|██████████| 40/40 [00:52<00:00,  1.31s/it]\n"
     ]
    },
    {
     "name": "stdout",
     "output_type": "stream",
     "text": [
      "Trait Extroversion\n"
     ]
    },
    {
     "name": "stderr",
     "output_type": "stream",
     "text": [
      "Subject: 100%|██████████| 40/40 [00:52<00:00,  1.31s/it]\n"
     ]
    },
    {
     "name": "stdout",
     "output_type": "stream",
     "text": [
      "Trait Conscientiousness\n"
     ]
    },
    {
     "name": "stderr",
     "output_type": "stream",
     "text": [
      "Subject: 100%|██████████| 40/40 [01:00<00:00,  1.50s/it]\n"
     ]
    },
    {
     "name": "stdout",
     "output_type": "stream",
     "text": [
      "Trait Emotional Stability\n"
     ]
    },
    {
     "name": "stderr",
     "output_type": "stream",
     "text": [
      "Subject: 100%|██████████| 40/40 [00:51<00:00,  1.28s/it]\n"
     ]
    },
    {
     "name": "stdout",
     "output_type": "stream",
     "text": [
      "Trait Openness\n"
     ]
    },
    {
     "name": "stderr",
     "output_type": "stream",
     "text": [
      "Subject: 100%|██████████| 40/40 [00:47<00:00,  1.19s/it]\n"
     ]
    }
   ],
   "source": [
    "import numpy as np\n",
    "\n",
    "for trait in traits: \n",
    "    print(f\"Trait {trait}\")\n",
    "    global_labels = dataloader.create_binary_labels(df, trait, df[trait].mean()) # create labels using mean as threshold\n",
    "\n",
    "    X_train, y_train, X_val, y_val, X_test, y_test = dataloader.create_dataset(global_labels, eeg_path, missing_subjects = missing_subjects,\n",
    "                                                                             split = cfg[\"split\"], window_length = cfg[\"window_length\"], \n",
    "                                                                             window_overlap = cfg[\"window_overlap\"], preprocess = cfg[\"preprocess\"], \n",
    "                                                                             bandpass = cfg[\"bandpass\"], scale = cfg[\"scale\"])\n",
    "\n",
    "    \n",
    "    # preprocessing using bandpass filter 1 - 45 Hz and Standard Scaler\n",
    "    # save\n",
    "    np.save(save_path + \"eeg_train_\" + traits[trait] + save_suffix + \".npy\", X_train)\n",
    "    np.save(save_path + \"eeg_val_\" + traits[trait] + save_suffix + \".npy\", X_val)\n",
    "    np.save(save_path + \"eeg_test_\" + traits[trait] + save_suffix + \".npy\", X_test)\n",
    "\n",
    "    np.save(save_path + \"labels_train_\" + traits[trait] + save_suffix + \".npy\", y_train)\n",
    "    np.save(save_path + \"labels_val_\" + traits[trait] + save_suffix + \".npy\", y_val)\n",
    "    np.save(save_path + \"labels_test_\" + traits[trait] + save_suffix + \".npy\", y_test)\n",
    "\n"
   ]
  },
  {
   "cell_type": "code",
   "execution_count": 11,
   "metadata": {},
   "outputs": [
    {
     "name": "stdout",
     "output_type": "stream",
     "text": [
      "Trait Agreeableness\n"
     ]
    },
    {
     "name": "stderr",
     "output_type": "stream",
     "text": [
      "Subject: 100%|██████████| 40/40 [00:48<00:00,  1.22s/it]\n"
     ]
    },
    {
     "name": "stdout",
     "output_type": "stream",
     "text": [
      "Trait Extroversion\n"
     ]
    },
    {
     "name": "stderr",
     "output_type": "stream",
     "text": [
      "Subject: 100%|██████████| 40/40 [00:47<00:00,  1.20s/it]\n"
     ]
    },
    {
     "name": "stdout",
     "output_type": "stream",
     "text": [
      "Trait Conscientiousness\n"
     ]
    },
    {
     "name": "stderr",
     "output_type": "stream",
     "text": [
      "Subject: 100%|██████████| 40/40 [00:47<00:00,  1.20s/it]\n"
     ]
    },
    {
     "name": "stdout",
     "output_type": "stream",
     "text": [
      "Trait Emotional Stability\n"
     ]
    },
    {
     "name": "stderr",
     "output_type": "stream",
     "text": [
      "Subject: 100%|██████████| 40/40 [00:48<00:00,  1.20s/it]\n"
     ]
    },
    {
     "name": "stdout",
     "output_type": "stream",
     "text": [
      "Trait Openness\n"
     ]
    },
    {
     "name": "stderr",
     "output_type": "stream",
     "text": [
      "Subject: 100%|██████████| 40/40 [00:47<00:00,  1.20s/it]\n"
     ]
    }
   ],
   "source": [
    "# change preprocessing in the config file\n",
    "# e.g.\n",
    "save_suffix = \"bpscaled_nodelta\"\n",
    "\n",
    "for trait in traits: \n",
    "    print(f\"Trait {trait}\")\n",
    "    global_labels = dataloader.create_binary_labels(df, trait, df[trait].mean()) # create labels using mean as threshold\n",
    "\n",
    "    X_train, y_train, X_val, y_val, X_test, y_test = dataloader.create_dataset(global_labels, eeg_path, missing_subjects = missing_subjects,\n",
    "                                                                             split = cfg[\"split\"], window_length = cfg[\"window_length\"], \n",
    "                                                                             window_overlap = cfg[\"window_overlap\"], preprocess = cfg[\"preprocess\"], \n",
    "                                                                             bandpass = [4,45], scale = cfg[\"scale\"])\n",
    "\n",
    "    \n",
    "    # preprocessing using bandpass filter 4 - 45 Hz (removing the Delta band) and Standard Scaler\n",
    "    # save\n",
    "    np.save(save_path + \"eeg_train_\" + traits[trait] + save_suffix + \".npy\", X_train)\n",
    "    np.save(save_path + \"eeg_val_\" + traits[trait] + save_suffix + \".npy\", X_val)\n",
    "    np.save(save_path + \"eeg_test_\" + traits[trait] + save_suffix + \".npy\", X_test)\n",
    "\n",
    "    np.save(save_path + \"labels_train_\" + traits[trait] + save_suffix + \".npy\", y_train)\n",
    "    np.save(save_path + \"labels_val_\" + traits[trait] + save_suffix + \".npy\", y_val)\n",
    "    np.save(save_path + \"labels_test_\" + traits[trait] + save_suffix + \".npy\", y_test)"
   ]
  }
 ],
 "metadata": {
  "interpreter": {
   "hash": "79c15afd44fdfdf4f16416e6b04d605a2f6a313e3e80e3bc79a5a2cf8936d6c2"
  },
  "kernelspec": {
   "display_name": "Python 3.8.6rc1 64-bit ('env': venv)",
   "language": "python",
   "name": "python3"
  },
  "language_info": {
   "codemirror_mode": {
    "name": "ipython",
    "version": 3
   },
   "file_extension": ".py",
   "mimetype": "text/x-python",
   "name": "python",
   "nbconvert_exporter": "python",
   "pygments_lexer": "ipython3",
   "version": "3.8.6"
  },
  "orig_nbformat": 4
 },
 "nbformat": 4,
 "nbformat_minor": 2
}
