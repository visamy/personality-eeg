{
 "cells": [
  {
   "cell_type": "code",
   "execution_count": 6,
   "metadata": {},
   "outputs": [],
   "source": [
    "import json\n",
    "import pandas as pd\n",
    "from src.hyperparameters.tune_hyperparameters import define_tuner\n",
    "\n",
    "# open config file\n",
    "f = open(\"..//config//config.json\",)\n",
    "config = json.load(f)"
   ]
  },
  {
   "cell_type": "code",
   "execution_count": 8,
   "metadata": {},
   "outputs": [
    {
     "name": "stdout",
     "output_type": "stream",
     "text": [
      "INFO:tensorflow:Reloading Oracle from existing project ..//reports//tuning//EEGNet-8,2_Agreeableness_bpscaled-1,45Hz\\oracle.json\n",
      "INFO:tensorflow:Reloading Tuner from ..//reports//tuning//EEGNet-8,2_Agreeableness_bpscaled-1,45Hz\\tuner0.json\n",
      "Results summary\n",
      "Results in ..//reports//tuning//EEGNet-8,2_Agreeableness_bpscaled-1,45Hz\n",
      "Showing 10 best trials\n",
      "Objective(name='val_loss', direction='min')\n",
      "Trial summary\n",
      "Hyperparameters:\n",
      "dropout: 0.1\n",
      "dropout_type: SpatialDropout2D\n",
      "lr: 0.01\n",
      "F1: 3\n",
      "D: 4\n",
      "Score: 0.5789556503295898\n",
      "Trial summary\n",
      "Hyperparameters:\n",
      "dropout: 0.1\n",
      "dropout_type: SpatialDropout2D\n",
      "lr: 0.01\n",
      "F1: 3\n",
      "D: 4\n",
      "Score: 0.5893319845199585\n",
      "Trial summary\n",
      "Hyperparameters:\n",
      "dropout: 0.1\n",
      "dropout_type: SpatialDropout2D\n",
      "lr: 0.01\n",
      "F1: 3\n",
      "D: 4\n",
      "Score: 0.5921001434326172\n",
      "Trial summary\n",
      "Hyperparameters:\n",
      "dropout: 0.1\n",
      "dropout_type: SpatialDropout2D\n",
      "lr: 0.01\n",
      "F1: 3\n",
      "D: 4\n",
      "Score: 0.5981079339981079\n",
      "Trial summary\n",
      "Hyperparameters:\n",
      "dropout: 0.1\n",
      "dropout_type: SpatialDropout2D\n",
      "lr: 0.01\n",
      "F1: 3\n",
      "D: 4\n",
      "Score: 0.6212073564529419\n",
      "Trial summary\n",
      "Hyperparameters:\n",
      "dropout: 0.1\n",
      "dropout_type: SpatialDropout2D\n",
      "lr: 0.01\n",
      "F1: 3\n",
      "D: 4\n",
      "Score: 0.6357484459877014\n",
      "Trial summary\n",
      "Hyperparameters:\n",
      "dropout: 0.1\n",
      "dropout_type: SpatialDropout2D\n",
      "lr: 0.01\n",
      "F1: 3\n",
      "D: 4\n",
      "Score: 0.6448643803596497\n",
      "Trial summary\n",
      "Hyperparameters:\n",
      "dropout: 0.1\n",
      "dropout_type: Dropout\n",
      "lr: 0.01\n",
      "F1: 3\n",
      "D: 4\n",
      "Score: 0.6779131889343262\n",
      "Trial summary\n",
      "Hyperparameters:\n",
      "dropout: 0.1\n",
      "dropout_type: SpatialDropout2D\n",
      "lr: 8.450903569447018e-05\n",
      "F1: 4\n",
      "D: 2\n",
      "Score: 0.6938000321388245\n",
      "Trial summary\n",
      "Hyperparameters:\n",
      "dropout: 0.1\n",
      "dropout_type: Dropout\n",
      "lr: 3.841017210511828e-05\n",
      "F1: 6\n",
      "D: 1\n",
      "Score: 0.7027992010116577\n"
     ]
    }
   ],
   "source": [
    "config[\"hyperparameter_tuning\"][\"directory\"] = '..//reports//tuning//'\n",
    "\n",
    "tuner = define_tuner(config, \"bayesian\")\n",
    "\n",
    "tuner.results_summary()"
   ]
  }
 ],
 "metadata": {
  "kernelspec": {
   "display_name": "Python 3.8.6rc1 64-bit ('env': venv)",
   "language": "python",
   "name": "python3"
  },
  "language_info": {
   "codemirror_mode": {
    "name": "ipython",
    "version": 3
   },
   "file_extension": ".py",
   "mimetype": "text/x-python",
   "name": "python",
   "nbconvert_exporter": "python",
   "pygments_lexer": "ipython3",
   "version": "3.8.6"
  },
  "orig_nbformat": 4,
  "vscode": {
   "interpreter": {
    "hash": "79c15afd44fdfdf4f16416e6b04d605a2f6a313e3e80e3bc79a5a2cf8936d6c2"
   }
  }
 },
 "nbformat": 4,
 "nbformat_minor": 2
}
