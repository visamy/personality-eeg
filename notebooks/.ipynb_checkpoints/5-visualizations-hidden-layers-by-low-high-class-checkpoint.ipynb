{
 "cells": [
  {
   "cell_type": "code",
   "execution_count": 1,
   "id": "65f217f4",
   "metadata": {},
   "outputs": [],
   "source": [
    "import matplotlib.pyplot as plt\n",
    "import mne\n",
    "import numpy as np\n",
    "import json\n",
    "from src.data import dataloader\n",
    "from src.models.utils import load_dataset\n",
    "import tensorflow as tf\n",
    "\n",
    "# open config file\n",
    "f = open(\"..//config//config.json\",)\n",
    "config = json.load(f)"
   ]
  },
  {
   "cell_type": "code",
   "execution_count": 16,
   "id": "f6befa97",
   "metadata": {},
   "outputs": [],
   "source": [
    "# info object\n",
    "channels = ['AF3', 'F7', 'F3', 'FC5', 'T7', 'P7', 'O1', 'O2', 'P8', 'T8', 'FC6', 'F4', 'F8', 'AF4']\n",
    "info = mne.create_info(channels, config[\"dataset\"][\"sampling_frequency\"], ch_types='eeg').set_montage('biosemi64')"
   ]
  },
  {
   "cell_type": "markdown",
   "id": "427e461d",
   "metadata": {},
   "source": [
    "### Temporal filters"
   ]
  },
  {
   "cell_type": "code",
   "execution_count": 3,
   "id": "3ac0d6ff",
   "metadata": {},
   "outputs": [],
   "source": [
    "# import personality data\n",
    "personality_path = \"..//data//Participants_Personality.xlsx\"\n",
    "\n",
    "data, _ = dataloader.extract_personality_data(path = personality_path)"
   ]
  },
  {
   "cell_type": "code",
   "execution_count": 4,
   "id": "6b9f969b",
   "metadata": {},
   "outputs": [],
   "source": [
    "# load model\n",
    "model_path = \"..//models//\" + config[\"train\"][\"experiment_desc\"] + \"-best.h5\"\n",
    "model = tf.keras.models.load_model(model_path)"
   ]
  },
  {
   "cell_type": "code",
   "execution_count": 5,
   "id": "5694aa8c",
   "metadata": {},
   "outputs": [],
   "source": [
    "# load test data\n",
    "config[\"dataset\"][\"save_path\"] = \"..//data//\"\n",
    "_, _, _, _, X_test, y_test = load_dataset(config)\n",
    "\n",
    "# get test set labels\n",
    "labels = np.argmax(y_test, axis=1)"
   ]
  },
  {
   "cell_type": "code",
   "execution_count": 6,
   "id": "bc9640f4",
   "metadata": {},
   "outputs": [],
   "source": [
    "# path temporal filters weights\n",
    "path = \"..//\" + config[\"train\"][\"weights_save_path\"] + config[\"train\"][\"experiment_desc\"] + \"_tempfilt_\""
   ]
  },
  {
   "cell_type": "code",
   "execution_count": 84,
   "id": "a88925c6",
   "metadata": {},
   "outputs": [],
   "source": [
    "# get output of temporal convolution layer\n",
    "mod = tf.keras.Model(model.layers[0].input, model.layers[1].output) # reconstruct model to give output at first conv layer\n",
    "\n",
    "# initialize arrays\n",
    "output_lowclass  = np.empty((0,14,384,config[\"train\"][\"temporal_filters\"]))\n",
    "output_highclass = np.empty((0,14,384,config[\"train\"][\"temporal_filters\"]))\n",
    "\n",
    "for index, window in enumerate(X_test): # predict each segmented window in the test set\n",
    "    out = mod.predict(np.expand_dims(window, axis = 0))[0] # shape = (14, time samples, F1)\n",
    "    label = labels[index] # window-associated label\n",
    "    \n",
    "    if label == 0:\n",
    "        output_lowclass = np.vstack((output_lowclass, np.expand_dims(out,0)))  \n",
    "\n",
    "    elif label == 1:\n",
    "        output_highclass = np.vstack((output_highclass, np.expand_dims(out,0))) \n",
    "        \n",
    "# save\n",
    "np.save(path + '_output_tempfilt_lowclass.npy', output_lowclass)\n",
    "np.save(path + '_output_tempfilt_highclass.npy', output_highclass)\n"
   ]
  },
  {
   "cell_type": "code",
   "execution_count": 14,
   "id": "c2141e60",
   "metadata": {},
   "outputs": [
    {
     "ename": "FileNotFoundError",
     "evalue": "[Errno 2] No such file or directory: '..//models//weights//EEGNet-8,2_Agreeableness_tempfilt__output_tempfilt_highclass.npy'",
     "output_type": "error",
     "traceback": [
      "\u001b[1;31m---------------------------------------------------------------------------\u001b[0m",
      "\u001b[1;31mFileNotFoundError\u001b[0m                         Traceback (most recent call last)",
      "\u001b[1;32m~\\AppData\\Local\\Temp/ipykernel_17952/2376359912.py\u001b[0m in \u001b[0;36m<module>\u001b[1;34m\u001b[0m\n\u001b[0;32m      1\u001b[0m \u001b[1;31m# load the saved first layer outputs divided in low and high class\u001b[0m\u001b[1;33m\u001b[0m\u001b[1;33m\u001b[0m\u001b[1;33m\u001b[0m\u001b[0m\n\u001b[1;32m----> 2\u001b[1;33m \u001b[0mout_highclass\u001b[0m \u001b[1;33m=\u001b[0m \u001b[0mnp\u001b[0m\u001b[1;33m.\u001b[0m\u001b[0mload\u001b[0m\u001b[1;33m(\u001b[0m\u001b[0mpath\u001b[0m \u001b[1;33m+\u001b[0m \u001b[1;34m'_output_tempfilt_highclass.npy'\u001b[0m\u001b[1;33m)\u001b[0m\u001b[1;33m\u001b[0m\u001b[1;33m\u001b[0m\u001b[0m\n\u001b[0m\u001b[0;32m      3\u001b[0m \u001b[0mout_lowclass\u001b[0m \u001b[1;33m=\u001b[0m \u001b[0mnp\u001b[0m\u001b[1;33m.\u001b[0m\u001b[0mload\u001b[0m\u001b[1;33m(\u001b[0m\u001b[0mpath\u001b[0m \u001b[1;33m+\u001b[0m \u001b[1;34m'_output_tempfilt_lowclass.npy'\u001b[0m\u001b[1;33m)\u001b[0m\u001b[1;33m\u001b[0m\u001b[1;33m\u001b[0m\u001b[0m\n",
      "\u001b[1;32mc:\\users\\vero7\\desktop\\tesi\\python\\env\\lib\\site-packages\\numpy\\lib\\npyio.py\u001b[0m in \u001b[0;36mload\u001b[1;34m(file, mmap_mode, allow_pickle, fix_imports, encoding)\u001b[0m\n\u001b[0;32m    415\u001b[0m             \u001b[0mown_fid\u001b[0m \u001b[1;33m=\u001b[0m \u001b[1;32mFalse\u001b[0m\u001b[1;33m\u001b[0m\u001b[1;33m\u001b[0m\u001b[0m\n\u001b[0;32m    416\u001b[0m         \u001b[1;32melse\u001b[0m\u001b[1;33m:\u001b[0m\u001b[1;33m\u001b[0m\u001b[1;33m\u001b[0m\u001b[0m\n\u001b[1;32m--> 417\u001b[1;33m             \u001b[0mfid\u001b[0m \u001b[1;33m=\u001b[0m \u001b[0mstack\u001b[0m\u001b[1;33m.\u001b[0m\u001b[0menter_context\u001b[0m\u001b[1;33m(\u001b[0m\u001b[0mopen\u001b[0m\u001b[1;33m(\u001b[0m\u001b[0mos_fspath\u001b[0m\u001b[1;33m(\u001b[0m\u001b[0mfile\u001b[0m\u001b[1;33m)\u001b[0m\u001b[1;33m,\u001b[0m \u001b[1;34m\"rb\"\u001b[0m\u001b[1;33m)\u001b[0m\u001b[1;33m)\u001b[0m\u001b[1;33m\u001b[0m\u001b[1;33m\u001b[0m\u001b[0m\n\u001b[0m\u001b[0;32m    418\u001b[0m             \u001b[0mown_fid\u001b[0m \u001b[1;33m=\u001b[0m \u001b[1;32mTrue\u001b[0m\u001b[1;33m\u001b[0m\u001b[1;33m\u001b[0m\u001b[0m\n\u001b[0;32m    419\u001b[0m \u001b[1;33m\u001b[0m\u001b[0m\n",
      "\u001b[1;31mFileNotFoundError\u001b[0m: [Errno 2] No such file or directory: '..//models//weights//EEGNet-8,2_Agreeableness_tempfilt__output_tempfilt_highclass.npy'"
     ]
    }
   ],
   "source": [
    "# load the saved first layer outputs divided in low and high class \n",
    "out_highclass = np.load(path + '_output_tempfilt_highclass.npy')\n",
    "out_lowclass = np.load(path + '_output_tempfilt_lowclass.npy')"
   ]
  },
  {
   "cell_type": "code",
   "execution_count": null,
   "id": "e59df380",
   "metadata": {},
   "outputs": [],
   "source": [
    "out_highclass.shape"
   ]
  },
  {
   "cell_type": "code",
   "execution_count": null,
   "id": "7c6f36f7",
   "metadata": {},
   "outputs": [],
   "source": [
    "out_lowclass.shape"
   ]
  },
  {
   "cell_type": "code",
   "execution_count": 15,
   "id": "bc8783b5",
   "metadata": {},
   "outputs": [
    {
     "ename": "ValueError",
     "evalue": "Info and data must have same number of channels.",
     "output_type": "error",
     "traceback": [
      "\u001b[1;31m---------------------------------------------------------------------------\u001b[0m",
      "\u001b[1;31mValueError\u001b[0m                                Traceback (most recent call last)",
      "\u001b[1;32m~\\AppData\\Local\\Temp/ipykernel_17952/4157541298.py\u001b[0m in \u001b[0;36m<module>\u001b[1;34m\u001b[0m\n\u001b[0;32m      7\u001b[0m \u001b[1;33m\u001b[0m\u001b[0m\n\u001b[0;32m      8\u001b[0m     \u001b[1;31m# make mne epochs object\u001b[0m\u001b[1;33m\u001b[0m\u001b[1;33m\u001b[0m\u001b[1;33m\u001b[0m\u001b[0m\n\u001b[1;32m----> 9\u001b[1;33m     \u001b[0mhepo\u001b[0m \u001b[1;33m=\u001b[0m \u001b[0mmne\u001b[0m\u001b[1;33m.\u001b[0m\u001b[0mEpochsArray\u001b[0m\u001b[1;33m(\u001b[0m\u001b[0mout_highclass\u001b[0m\u001b[1;33m[\u001b[0m\u001b[1;33m:\u001b[0m\u001b[1;33m,\u001b[0m\u001b[1;33m:\u001b[0m\u001b[1;33m,\u001b[0m\u001b[1;33m:\u001b[0m\u001b[1;33m,\u001b[0m\u001b[0mtemp\u001b[0m\u001b[1;33m]\u001b[0m\u001b[1;33m,\u001b[0m \u001b[0minfo\u001b[0m\u001b[1;33m,\u001b[0m \u001b[0mverbose\u001b[0m \u001b[1;33m=\u001b[0m \u001b[1;36m0\u001b[0m\u001b[1;33m)\u001b[0m\u001b[1;33m\u001b[0m\u001b[1;33m\u001b[0m\u001b[0m\n\u001b[0m\u001b[0;32m     10\u001b[0m     \u001b[0mlepo\u001b[0m \u001b[1;33m=\u001b[0m \u001b[0mmne\u001b[0m\u001b[1;33m.\u001b[0m\u001b[0mEpochsArray\u001b[0m\u001b[1;33m(\u001b[0m\u001b[0mout_lowclass\u001b[0m\u001b[1;33m[\u001b[0m\u001b[1;33m:\u001b[0m\u001b[1;33m,\u001b[0m\u001b[1;33m:\u001b[0m\u001b[1;33m,\u001b[0m\u001b[1;33m:\u001b[0m\u001b[1;33m,\u001b[0m\u001b[0mtemp\u001b[0m\u001b[1;33m]\u001b[0m\u001b[1;33m,\u001b[0m \u001b[0minfo\u001b[0m\u001b[1;33m,\u001b[0m \u001b[0mverbose\u001b[0m \u001b[1;33m=\u001b[0m \u001b[1;36m0\u001b[0m\u001b[1;33m)\u001b[0m\u001b[1;33m\u001b[0m\u001b[1;33m\u001b[0m\u001b[0m\n\u001b[0;32m     11\u001b[0m \u001b[1;33m\u001b[0m\u001b[0m\n",
      "\u001b[1;32m<decorator-gen-226>\u001b[0m in \u001b[0;36m__init__\u001b[1;34m(self, data, info, events, tmin, event_id, reject, flat, reject_tmin, reject_tmax, baseline, proj, on_missing, metadata, selection, verbose)\u001b[0m\n",
      "\u001b[1;32mc:\\users\\vero7\\desktop\\tesi\\python\\env\\lib\\site-packages\\mne\\epochs.py\u001b[0m in \u001b[0;36m__init__\u001b[1;34m(self, data, info, events, tmin, event_id, reject, flat, reject_tmin, reject_tmax, baseline, proj, on_missing, metadata, selection, verbose)\u001b[0m\n\u001b[0;32m   2667\u001b[0m \u001b[1;33m\u001b[0m\u001b[0m\n\u001b[0;32m   2668\u001b[0m         \u001b[1;32mif\u001b[0m \u001b[0mlen\u001b[0m\u001b[1;33m(\u001b[0m\u001b[0minfo\u001b[0m\u001b[1;33m[\u001b[0m\u001b[1;34m'ch_names'\u001b[0m\u001b[1;33m]\u001b[0m\u001b[1;33m)\u001b[0m \u001b[1;33m!=\u001b[0m \u001b[0mdata\u001b[0m\u001b[1;33m.\u001b[0m\u001b[0mshape\u001b[0m\u001b[1;33m[\u001b[0m\u001b[1;36m1\u001b[0m\u001b[1;33m]\u001b[0m\u001b[1;33m:\u001b[0m\u001b[1;33m\u001b[0m\u001b[1;33m\u001b[0m\u001b[0m\n\u001b[1;32m-> 2669\u001b[1;33m             raise ValueError('Info and data must have same number of '\n\u001b[0m\u001b[0;32m   2670\u001b[0m                              'channels.')\n\u001b[0;32m   2671\u001b[0m         \u001b[1;32mif\u001b[0m \u001b[0mevents\u001b[0m \u001b[1;32mis\u001b[0m \u001b[1;32mNone\u001b[0m\u001b[1;33m:\u001b[0m\u001b[1;33m\u001b[0m\u001b[1;33m\u001b[0m\u001b[0m\n",
      "\u001b[1;31mValueError\u001b[0m: Info and data must have same number of channels."
     ]
    },
    {
     "data": {
      "image/png": "[encoded data removed]",
      "text/plain": [
       "<Figure size 576x1440 with 8 Axes>"
      ]
     },
     "metadata": {
      "needs_background": "light"
     },
     "output_type": "display_data"
    }
   ],
   "source": [
    "# plot\n",
    "f, ax = plt.subplots(nrows=config[\"train\"][\"temporal_filters\"], ncols=1, figsize=(8,20))\n",
    "plt.suptitle(config[\"train\"][\"experiment_desc\"]  + '- Temporal filters output \\n Low/High class comparison')\n",
    "\n",
    "# loop through filters\n",
    "for temp in range(out_highclass.shape[3]):\n",
    "    \n",
    "    # make mne epochs object\n",
    "    hepo = mne.EpochsArray(out_highclass[:,:,:,temp], info, verbose = 0)\n",
    "    lepo = mne.EpochsArray(out_lowclass[:,:,:,temp], info, verbose = 0)\n",
    "    \n",
    "    # psd\n",
    "    h_psd, h_freqs = mne.time_frequency.psd_welch(hepo, average='mean', fmin=.1, fmax=45, n_fft=128, n_overlap=64, n_jobs=1, verbose=0) \n",
    "    h_psd = 10 * np.log10(h_psd)  # convert to dB\n",
    "    h_psd_mean = h_psd.mean(0).mean(0)\n",
    "    h_psd_std = h_psd.mean(0).std(0)\n",
    "\n",
    "    l_psd, l_freqs = mne.time_frequency.psd_welch(lepo, average='mean', fmin=.1, fmax=45, n_fft=128, n_overlap=64, n_jobs=1, verbose=0) \n",
    "    l_psd = 10 * np.log10(l_psd)  # convert to dB\n",
    "    l_psd_mean = l_psd.mean(0).mean(0)\n",
    "    l_psd_std = l_psd.mean(0).std(0)\n",
    "    \n",
    "    ax[temp].plot(l_freqs, l_psd_mean, linewidth=2, color='k')\n",
    "    ax[temp].fill_between(l_freqs, l_psd_mean + l_psd_std, l_psd_mean - l_psd_std, alpha=.1, linewidth=0, color='k')\n",
    "    ax[temp].plot(h_freqs, h_psd_mean, linewidth=2, color='r')\n",
    "    ax[temp].fill_between(h_freqs, h_psd_mean + h_psd_std, h_psd_mean - h_psd_std, alpha=.1, linewidth=0, color='r')\n",
    "    ax[temp].set(title='Output of Temporal Filter ' + str(temp+1), xlabel='Frequency (Hz)', ylabel='PSD (dB)', xlim=(4,45))\n",
    "    ax[temp].legend(['Class 0', 'Class 1'], title='Average PSD', loc=\"lower right\")\n",
    "    plt.tight_layout()"
   ]
  },
  {
   "cell_type": "markdown",
   "id": "877afefb",
   "metadata": {},
   "source": [
    "### Spatial filters"
   ]
  },
  {
   "cell_type": "code",
   "execution_count": 12,
   "id": "64d7282a",
   "metadata": {},
   "outputs": [],
   "source": [
    "# get output of depthwise convolution layer\n",
    "mod = tf.keras.Model(model.layers[0].input, model.layers[3].output) # reconstruct model to give output at depthwise conv layer\n",
    "\n",
    "# initialize arrays\n",
    "output_lowclass  = np.empty((0,1,384,config[\"train\"][\"temporal_filters\"]*config[\"train\"][\"spatial_filters_depth\"]))\n",
    "output_highclass = np.empty((0,1,384,config[\"train\"][\"temporal_filters\"]*config[\"train\"][\"spatial_filters_depth\"]))\n",
    "\n",
    "for index, window in enumerate(X_test): # predict each segmented window in the test set\n",
    "    out = mod.predict(np.expand_dims(window, axis = 0))[0] # shape = (1, time samples, F1*D)\n",
    "    label = labels[index] # window-associated label\n",
    "    \n",
    "    if label == 0:\n",
    "        output_lowclass = np.vstack((output_lowclass, np.expand_dims(out,0)))  \n",
    "\n",
    "    elif label == 1:\n",
    "        output_highclass = np.vstack((output_highclass, np.expand_dims(out,0))) \n",
    "        \n",
    "# save\n",
    "np.save(path + '_output_spatfilt_lowclass.npy', output_lowclass)\n",
    "np.save(path + '_output_spatfilt_highclass.npy', output_highclass)"
   ]
  },
  {
   "cell_type": "code",
   "execution_count": 13,
   "id": "48a1e518",
   "metadata": {},
   "outputs": [],
   "source": [
    "# load the saved first layer outputs divided in low and high class \n",
    "out_highclass = np.load(path + '_output_spatfilt_highclass.npy')\n",
    "out_lowclass = np.load(path + '_output_spatfilt_lowclass.npy')"
   ]
  },
  {
   "cell_type": "code",
   "execution_count": 17,
   "id": "4e83cb42",
   "metadata": {},
   "outputs": [
    {
     "data": {
      "text/plain": [
       "(1178, 1, 384, 16)"
      ]
     },
     "execution_count": 17,
     "metadata": {},
     "output_type": "execute_result"
    }
   ],
   "source": [
    "out_highclass.shape"
   ]
  },
  {
   "cell_type": "code",
   "execution_count": 18,
   "id": "c9a4f145",
   "metadata": {},
   "outputs": [
    {
     "data": {
      "text/plain": [
       "(1152, 1, 384, 16)"
      ]
     },
     "execution_count": 18,
     "metadata": {},
     "output_type": "execute_result"
    }
   ],
   "source": [
    "out_lowclass.shape"
   ]
  },
  {
   "cell_type": "code",
   "execution_count": null,
   "id": "3278ac77",
   "metadata": {},
   "outputs": [],
   "source": [
    "# plot\n",
    "f, ax = plt.subplots(nrows=config[\"train\"][\"temporal_filters\"], ncols=config[\"train\"][\"spatial_filters_depth\"], figsize=(10,10))\n",
    "plt.suptitle(config[\"train\"][\"experiment_desc\"] + ' - Spatial filters output \\n Low/High class comparison')\n",
    "\n",
    "# loop through filters\n",
    "for idx_temp, temp in enumerate(range(0, config[\"train\"][\"temporal_filters\"]*config[\"train\"][\"spatial_filters_depth\"], 2)):\n",
    "\n",
    "        # make mne epochs object\n",
    "        hepo_s1 = mne.EpochsArray(out_highclass[:,:,:,temp], info, verbose = 0)\n",
    "        lepo_s1 = mne.EpochsArray(out_lowclass[:,:,:,temp], info, verbose = 0)\n",
    "        \n",
    "        hepo_s2 = mne.EpochsArray(out_highclass[:,:,:,temp+1], info, verbose = 0)\n",
    "        lepo_s2 = mne.EpochsArray(out_lowclass[:,:,:,temp+1], info, verbose = 0)\n",
    "\n",
    "        # psd\n",
    "        h_psd, h_freqs = mne.time_frequency.psd_welch(hepo, average='mean', fmin=.1, fmax=45, n_fft=128, n_overlap=64, n_jobs=1, verbose=0) \n",
    "        h_psd = 10 * np.log10(h_psd)  # convert to dB\n",
    "        h_psd_mean = h_psd.mean(0).mean(0)\n",
    "        h_psd_std = h_psd.mean(0).std(0)\n",
    "\n",
    "        l_psd, l_freqs = mne.time_frequency.psd_welch(lepo, average='mean', fmin=.1, fmax=45, n_fft=128, n_overlap=64, n_jobs=1, verbose=0) \n",
    "        l_psd = 10 * np.log10(l_psd)  # convert to dB\n",
    "        l_psd_mean = l_psd.mean(0).mean(0)\n",
    "        l_psd_std = l_psd.mean(0).std(0)\n",
    "\n",
    "        ax[idx_temp,0].plot(l0_freqs_s1, l0_psds_s1_mean, linewidth=2, color='k')\n",
    "        ax[idx_temp,0].fill_between(l0_freqs_s1, l0_psds_s1_mean + l0_psds_s1_std, l0_psds_s1_mean - l0_psds_s1_std, alpha=.1, linewidth=0,color='k')\n",
    "        ax[idx_temp,0].plot(h1_freqs_s1, h1_psds_s1_mean, linewidth=2, color='r')\n",
    "        ax[idx_temp,0].fill_between(h1_freqs_s1, h1_psds_s1_mean + h1_psds_s1_std, h1_psds_s1_mean - h1_psds_s1_std, alpha=.1, linewidth=0, color='r')\n",
    "        ax[idx_temp,0].set(title='Output of Spatial Filter 1 - Temporal Filter ' + str(temp+1), xlabel='Frequency (Hz)', ylabel='PSD (dB)', xlim=(4,45))\n",
    "        ax[idx_temp,0].legend(['Class 0', 'Class 1'], title='Average PSD', loc=\"lower right\")\n",
    "\n",
    "        ax[idx_temp,1].plot(l0_freqs_s2, l0_psds_s2_mean, linewidth=2, color='k')\n",
    "        ax[idx_temp,1].fill_between(l0_freqs_s2, l0_psds_s2_mean + l0_psds_s2_std, l0_psds_s2_mean - l0_psds_s2_std, alpha=.1, linewidth=0, color='k')\n",
    "        ax[idx_temp,1].plot(h1_freqs_s2, h1_psds_s2_mean, linewidth=2, color='r')\n",
    "        ax[idx_temp,1].fill_between(h1_freqs_s2,h1_psds_s2_mean + h1_psds_s2_std, h1_psds_s2_mean - h1_psds_s2_std, alpha=.1, linewidth=0, color='r')\n",
    "        ax[idx_temp,1].set(title='Output of Spatial Filter 2 - Temporal Filter ' + str(temp+1), xlabel='Frequency (Hz)', ylabel='PSD (dB)', xlim=(4,45))\n",
    "        ax[idx_temp,1].legend(['Class 0', 'Class 1'], title='Average PSD', loc=\"lower right\")\n",
    "\n",
    "        plt.tight_layout()"
   ]
  },
  {
   "cell_type": "code",
   "execution_count": 27,
   "id": "f00cd11e",
   "metadata": {},
   "outputs": [
    {
     "name": "stdout",
     "output_type": "stream",
     "text": [
      "0\n",
      "0\n",
      "1\n",
      "2\n",
      "2\n",
      "4\n",
      "3\n",
      "6\n",
      "4\n",
      "8\n",
      "5\n",
      "10\n",
      "6\n",
      "12\n",
      "7\n",
      "14\n"
     ]
    }
   ],
   "source": [
    "for idx, temp in enumerate(range(0, config[\"train\"][\"temporal_filters\"]*config[\"train\"][\"spatial_filters_depth\"], 2)):\n",
    "    print(idx)\n",
    "    print(temp)\n",
    "    \n",
    "    for spat in range(config[\"train\"][\"spatial_filters_depth\"]):\n",
    "        \n",
    "        if spat == 0:\n",
    "            \n",
    "        #print(temp+idx*spat)\n",
    "        \n",
    "        # 0,1\n",
    "        # 2,3\n",
    "        # 3,4\n",
    "        # 5,6\n",
    "        \n"
   ]
  },
  {
   "cell_type": "code",
   "execution_count": 8,
   "id": "84d75e08",
   "metadata": {},
   "outputs": [],
   "source": []
  },
  {
   "cell_type": "code",
   "execution_count": null,
   "id": "4084dd67",
   "metadata": {},
   "outputs": [],
   "source": []
  },
  {
   "cell_type": "code",
   "execution_count": 9,
   "id": "9a0a1d13",
   "metadata": {},
   "outputs": [
    {
     "data": {
      "text/plain": [
       "'..//models//weights//EEGNet-8,2_Agreeableness_tempfilt'"
      ]
     },
     "execution_count": 9,
     "metadata": {},
     "output_type": "execute_result"
    }
   ],
   "source": [
    "for temp in range(config[\"train\"][\"temporal_filters\"]):\n",
    "    # load\n",
    "    h1_s1 = np.load(folder + 'eegnet-' + str(F1) + ',2_' + trait + '_bpscaled_nodelta_highclass_t' + str(temp+1) + 's1.npy')\n",
    "    l0_s1 = np.load(folder + 'eegnet-' + str(F1) + ',2_' + trait + '_bpscaled_nodelta_lowclass_t' + str(temp+1) + 's1.npy')\n",
    "\n",
    "    h1_s2 = np.load(folder + 'eegnet-' + str(F1) + ',2_' + trait + '_bpscaled_nodelta_highclass_t' + str(temp+1) + 's2.npy')\n",
    "    l0_s2 = np.load(folder + 'eegnet-' + str(F1) + ',2_' + trait + '_bpscaled_nodelta_lowclass_t' + str(temp+1) + 's2.npy')\n",
    "\n",
    "    key = 'highclass_temp'+str(temp+1)+'_s1'\n",
    "    scipy.io.savemat(spath + 'eegnet-' + str(F1) + ',2_' + trait + '_bpscaled_nodelta_highclass_t' + str(temp+1) + 's1.mat', {key:h1_s1})\n",
    "    key = 'lowclass_temp'+str(temp+1)+'_s1'\n",
    "    scipy.io.savemat(spath + 'eegnet-' + str(F1) + ',2_' + trait + '_bpscaled_nodelta_lowclass_t' + str(temp+1) + 's1.mat', {key:l0_s1})\n",
    "    key = 'highclass_temp'+str(temp+1)+'_s2'\n",
    "    scipy.io.savemat(spath + 'eegnet-' + str(F1) + ',2_' + trait + '_bpscaled_nodelta_highclass_t' + str(temp+1) + 's2.mat', {key:h1_s2})\n",
    "    key = 'lowclass_temp'+str(temp+1)+'_s2'\n",
    "    scipy.io.savemat(spath + 'eegnet-' + str(F1) + ',2_' + trait + '_bpscaled_nodelta_lowclass_t' + str(temp+1) + 's2.mat', {key:l0_s2})"
   ]
  },
  {
   "cell_type": "code",
   "execution_count": null,
   "id": "97084276",
   "metadata": {},
   "outputs": [],
   "source": []
  }
 ],
 "metadata": {
  "kernelspec": {
   "display_name": "Python 3 (ipykernel)",
   "language": "python",
   "name": "python3"
  },
  "language_info": {
   "codemirror_mode": {
    "name": "ipython",
    "version": 3
   },
   "file_extension": ".py",
   "mimetype": "text/x-python",
   "name": "python",
   "nbconvert_exporter": "python",
   "pygments_lexer": "ipython3",
   "version": "3.8.6rc1"
  }
 },
 "nbformat": 4,
 "nbformat_minor": 5
}
